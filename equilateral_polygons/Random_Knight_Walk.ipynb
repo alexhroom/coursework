{
 "cells": [
  {
   "cell_type": "markdown",
   "metadata": {
    "id": "OBN4QuJKrJ_X"
   },
   "source": [
    "This code is a Python script which performs the Knight algorithm given in our MA2900 Problem Solving paper, to create an equilateral simple polygon with n sides.\n",
    "\n"
   ]
  },
  {
   "cell_type": "code",
   "execution_count": null,
   "metadata": {
    "id": "JlK6GYq0jbVF"
   },
   "outputs": [],
   "source": [
    "import numpy as np\n",
    "import matplotlib.pyplot as plt\n",
    "import matplotlib.path as pltpath\n",
    "import matplotlib.patches as patches\n",
    "import random\n",
    "\n",
    "class Knight():\n",
    "    '''Our walking knight, which can be moved by a vector'''\n",
    "    \n",
    "    def __init__(self):\n",
    "        self.position = np.array([0,0])\n",
    "    def move(self, array):\n",
    "        self.position = self.position + array\n",
    "        \n",
    "    def __repr__(self):\n",
    "        return \"(\" + str(self.position) + \")\""
   ]
  },
  {
   "cell_type": "code",
   "execution_count": null,
   "metadata": {
    "id": "8Xn_sv7yjbVV"
   },
   "outputs": [],
   "source": [
    "def createpolygon(n):\n",
    "    '''creates an even-sided equilateral polygon with vertices all in Z2'''\n",
    "    k = Knight()\n",
    "    if n % 2 == 1:\n",
    "        raise Exception(\"It is only possible to create polygons with an even number of sides\")\n",
    "        \n",
    "    ### Defining moveset and required variables\n",
    "    #Because this uses the algorithm where one direction is 'forbidden', \n",
    "    #these movement vectors are the ones in the knight group \n",
    "    #without left-moving ones\n",
    "    moves = np.array([[2,1],[2,-1],[1,2],[1,-2]])\n",
    "    lastmove = moves[random.randint(0,3)]\n",
    "    \n",
    "    #Numpy won't let me make empty flexible arrays >:(\n",
    "    outward_positions = np.array([0,0])\n",
    "    outward_movelist = np.array([0,0])\n",
    "    i = 0\n",
    "    \n",
    "    ### Creates n/2 vertices, i.e. step 2 of the algorithm\n",
    "    while i < (n / 2):\n",
    "        newmove = moves[random.randint(0,3)]\n",
    "        if not (np.array_equal(newmove, lastmove)):\n",
    "            lastmove = newmove\n",
    "            k.move(lastmove)\n",
    "            outward_positions = np.vstack((outward_positions, k.position))\n",
    "            outward_movelist = np.vstack((outward_movelist, lastmove))\n",
    "            i += 1\n",
    "            \n",
    "    outward_movelist = np.delete(outward_movelist, 0, 0)\n",
    "        \n",
    "    ### Checks the paths do not intersect    \n",
    "    #workaround_positions is required due to a matplotlib bug meaning \n",
    "    #if two lines end at the same point, path_intersect always returns TRUE\n",
    "    workaround_positions = np.delete(outward_positions, 0, 0)\n",
    "    workaround_positions = np.delete(workaround_positions, -1, 0)\n",
    "    codes = [1]\n",
    "    codes += [2] * int(n/2 - 2)\n",
    "    path_so_far = pltpath.Path(workaround_positions, codes)\n",
    "    checkpath = pltpath.Path([k.position, [0,0]], [1,2])\n",
    "    if checkpath.intersects_path(path_so_far):\n",
    "        createpolygon(n)\n",
    "        return\n",
    "    \n",
    "    ### Moves the piece by the inverse of all the moves from step 2\n",
    "    full_positions = outward_positions\n",
    "    for move in outward_movelist:\n",
    "        if not (np.array_equal(move, [0,0])):\n",
    "            k.move(-1 * move)\n",
    "            full_positions = np.vstack((full_positions, k.position))\n",
    "    codes = [1]\n",
    "    codes += [2] * (len(full_positions) - 1)\n",
    "        \n",
    "    ### Draws polygon\n",
    "    fig, ax = plt.subplots()\n",
    "    full_path = pltpath.Path(full_positions, codes)\n",
    "    patch = patches.PathPatch(full_path, facecolor='white', lw=2)\n",
    "    ax.add_patch(patch)\n",
    "    ax.set_xlim(-1, n)\n",
    "    ax.set_ylim(-n, n)\n",
    "    plt.show()"
   ]
  },
  {
   "cell_type": "code",
   "execution_count": null,
   "metadata": {
    "colab": {
     "base_uri": "https://localhost:8080/",
     "height": 269
    },
    "id": "0yYFkpLKjbVW",
    "outputId": "486b15d7-7c15-4fb8-d135-6b164c0a0d30"
   },
   "outputs": [
    {
     "data": {
      "image/png": "[encoded data removed]",
      "text/plain": [
       "<Figure size 432x288 with 1 Axes>"
      ]
     },
     "metadata": {
      "needs_background": "light",
      "tags": []
     },
     "output_type": "display_data"
    }
   ],
   "source": [
    "createpolygon(4)"
   ]
  },
  {
   "cell_type": "code",
   "execution_count": null,
   "metadata": {
    "colab": {
     "base_uri": "https://localhost:8080/",
     "height": 269
    },
    "id": "Q0OnBPgJkaw5",
    "outputId": "0fe358cc-b26e-4ba1-95b2-1bd54902ebbb"
   },
   "outputs": [
    {
     "data": {
      "image/png": "[encoded data removed]",
      "text/plain": [
       "<Figure size 432x288 with 1 Axes>"
      ]
     },
     "metadata": {
      "needs_background": "light",
      "tags": []
     },
     "output_type": "display_data"
    }
   ],
   "source": [
    "createpolygon(8)"
   ]
  },
  {
   "cell_type": "code",
   "execution_count": null,
   "metadata": {
    "colab": {
     "base_uri": "https://localhost:8080/",
     "height": 265
    },
    "id": "-KJBGCc0kf41",
    "outputId": "c6cdaaa1-f7d1-4a67-ced7-625df86c036f"
   },
   "outputs": [
    {
     "data": {
      "image/png": "[encoded data removed]",
      "text/plain": [
       "<Figure size 432x288 with 1 Axes>"
      ]
     },
     "metadata": {
      "needs_background": "light",
      "tags": []
     },
     "output_type": "display_data"
    }
   ],
   "source": [
    "createpolygon(16)"
   ]
  },
  {
   "cell_type": "code",
   "execution_count": null,
   "metadata": {
    "colab": {
     "base_uri": "https://localhost:8080/",
     "height": 269
    },
    "id": "c973f85rkiEa",
    "outputId": "c45788b4-8883-4f99-de4e-f4d7db117348"
   },
   "outputs": [
    {
     "data": {
      "image/png": "[encoded data removed]",
      "text/plain": [
       "<Figure size 432x288 with 1 Axes>"
      ]
     },
     "metadata": {
      "needs_background": "light",
      "tags": []
     },
     "output_type": "display_data"
    }
   ],
   "source": [
    "createpolygon(100)"
   ]
  }
 ],
 "metadata": {
  "colab": {
   "collapsed_sections": [],
   "name": "Random Knight Walk to Construct a Polygon.ipynb",
   "provenance": []
  },
  "kernelspec": {
   "display_name": "Python 3",
   "language": "python",
   "name": "python3"
  },
  "language_info": {
   "codemirror_mode": {
    "name": "ipython",
    "version": 3
   },
   "file_extension": ".py",
   "mimetype": "text/x-python",
   "name": "python",
   "nbconvert_exporter": "python",
   "pygments_lexer": "ipython3",
   "version": "3.8.10"
  }
 },
 "nbformat": 4,
 "nbformat_minor": 1
}
