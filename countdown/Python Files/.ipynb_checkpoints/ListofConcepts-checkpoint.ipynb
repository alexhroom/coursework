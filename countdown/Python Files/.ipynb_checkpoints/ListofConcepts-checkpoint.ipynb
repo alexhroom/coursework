{
 "cells": [
  {
   "cell_type": "markdown",
   "metadata": {},
   "source": [
    "*Variable assignment and algebraic manipulation*\n",
    "-----\n",
    "This code assigns the values 5 and 2 to a and b respectively, then prints the value of 5 mod 2."
   ]
  },
  {
   "cell_type": "code",
   "execution_count": 1,
   "metadata": {},
   "outputs": [
    {
     "name": "stdout",
     "output_type": "stream",
     "text": [
      "1\n"
     ]
    }
   ],
   "source": [
    "a = 5\n",
    "b = 2\n",
    "print(a % b)"
   ]
  },
  {
   "cell_type": "markdown",
   "metadata": {},
   "source": [
    "*Single conditional statements*\n",
    "-----\n",
    "This code checks the sign of a random integer between -5 and 10."
   ]
  },
  {
   "cell_type": "code",
   "execution_count": 7,
   "metadata": {},
   "outputs": [
    {
     "name": "stdout",
     "output_type": "stream",
     "text": [
      "n =  7 . n is positive.\n"
     ]
    }
   ],
   "source": [
    "import random\n",
    "\n",
    "n = random.randint(-5, 10)\n",
    "if n < 0: #checks if n is negative\n",
    "    print(\"n = \", n, \". n is negative.\")\n",
    "elif n > 0: #checks if n is positive\n",
    "    print(\"n = \", n, \". n is positive.\")\n",
    "else: #if n is neither positive nor negative, it must be zero\n",
    "    print(\"n is zero.\")"
   ]
  },
  {
   "cell_type": "markdown",
   "metadata": {},
   "source": [
    "*Repeated conditional statements*\n",
    "-----\n",
    "This code flips a coin until it gets heads, and checks how many tails it gets before this."
   ]
  },
  {
   "cell_type": "code",
   "execution_count": 42,
   "metadata": {},
   "outputs": [
    {
     "name": "stdout",
     "output_type": "stream",
     "text": [
      "Tails!\n",
      "Tails!\n",
      "Tails!\n",
      "Tails!\n",
      "Tails!\n",
      "Tails!\n",
      "Heads!\n",
      "6\n"
     ]
    }
   ],
   "source": [
    "import random\n",
    "\n",
    "tails = 0\n",
    "heads_achieved = False\n",
    "\n",
    "while heads_achieved == False: #repeat until a head is achieved\n",
    "    if random.randint(0, 1) == 1: #where 1 is a head\n",
    "        print(\"Heads!\")\n",
    "        heads_achieved = True #stops the loop\n",
    "    else: #else, it is a tails; repeat loop\n",
    "        print(\"Tails!\")\n",
    "        tails += 1\n",
    "print(tails)"
   ]
  },
  {
   "cell_type": "markdown",
   "metadata": {},
   "source": [
    "*Functions and lists*\n",
    "-----\n",
    "This function creates a list of all even numbers smaller than a given number."
   ]
  },
  {
   "cell_type": "code",
   "execution_count": 29,
   "metadata": {},
   "outputs": [],
   "source": [
    "def evens(n):\n",
    "    '''Creates a list of all even numbers smaller than n'''\n",
    "    results = [] #creates an empty list in which to put the numbers\n",
    "    for i in range (n):\n",
    "        if n > 2 * i: #where 2 * i is the even sequence 2,4,6...\n",
    "            results.append(2 * i)\n",
    "    return results"
   ]
  },
  {
   "cell_type": "code",
   "execution_count": 30,
   "metadata": {},
   "outputs": [
    {
     "data": {
      "text/plain": [
       "[0, 2, 4, 6, 8, 10, 12, 14, 16, 18, 20]"
      ]
     },
     "execution_count": 30,
     "metadata": {},
     "output_type": "execute_result"
    }
   ],
   "source": [
    "evens(22)"
   ]
  },
  {
   "cell_type": "markdown",
   "metadata": {},
   "source": [
    "*Iteration*\n",
    "-----\n",
    "This code checks how many vowels are in a string."
   ]
  },
  {
   "cell_type": "code",
   "execution_count": 1,
   "metadata": {},
   "outputs": [
    {
     "name": "stdout",
     "output_type": "stream",
     "text": [
      "4\n"
     ]
    }
   ],
   "source": [
    "word = \"Dublin, Ireland\"\n",
    "letters = list(word)\n",
    "vowels = 0\n",
    "\n",
    "for n in range (len(word)): #loops for as many letters as the list contains\n",
    "    if letters[n] in ['a', 'e', 'i', 'o', 'u']: #if the letter being checked is a vowel\n",
    "        vowels += 1\n",
    "print(vowels)"
   ]
  },
  {
   "cell_type": "markdown",
   "metadata": {},
   "source": [
    "*Recursion*\n",
    "-----\n",
    "This function finds the n'th triangular number."
   ]
  },
  {
   "cell_type": "code",
   "execution_count": 43,
   "metadata": {},
   "outputs": [],
   "source": [
    "def triangular(n):\n",
    "    '''Finds the nth triangular number by recursion.'''\n",
    "    \n",
    "    if n <= 1:\n",
    "        return 1\n",
    "    else:\n",
    "        return n + triangular(n-1)"
   ]
  },
  {
   "cell_type": "code",
   "execution_count": 44,
   "metadata": {},
   "outputs": [
    {
     "data": {
      "text/plain": [
       "15"
      ]
     },
     "execution_count": 44,
     "metadata": {},
     "output_type": "execute_result"
    }
   ],
   "source": [
    "triangular(5)"
   ]
  },
  {
   "cell_type": "markdown",
   "metadata": {},
   "source": [
    "*Object-oriented programming*\n",
    "-----\n",
    "This class represents vectors in 3-dimensional space."
   ]
  },
  {
   "cell_type": "code",
   "execution_count": 64,
   "metadata": {},
   "outputs": [],
   "source": [
    "class Vector:\n",
    "    '''A class for vectors in 3-dimensional space.'''\n",
    "    \n",
    "    def __init__(self, x, y, z):\n",
    "        self.x = x\n",
    "        self.y = y\n",
    "        self.z = z\n",
    "        \n",
    "    def __add__(self, other): #adds two vectors together\n",
    "        return Vector(self.x + other.x, self.y + other.y, self.z + other.z)\n",
    "    \n",
    "    def dot_product(self, other): #gives the scalar (dot) product of two vectors\n",
    "        return (self.x * other.x + self.y * other.y + self.z * other.z)\n",
    "    \n",
    "    def cross_product(self, other): #gives the vector (cross) product of two vectors\n",
    "        return Vector(self.y * other.z - self.z * other.y, self.z * other.x - self.x * other.z, self.x * other.y - self.y * other.x)\n",
    "    \n",
    "    def __repr__(self): #represents vectors as a string, rather than an object\n",
    "        return str([self.x, self.y, self.z])"
   ]
  },
  {
   "cell_type": "code",
   "execution_count": 65,
   "metadata": {},
   "outputs": [],
   "source": [
    "A = Vector(2, 3, 4)\n",
    "B = Vector(1, 5, 1)"
   ]
  },
  {
   "cell_type": "code",
   "execution_count": 66,
   "metadata": {},
   "outputs": [
    {
     "data": {
      "text/plain": [
       "[3, 8, 5]"
      ]
     },
     "execution_count": 66,
     "metadata": {},
     "output_type": "execute_result"
    }
   ],
   "source": [
    "A + B"
   ]
  },
  {
   "cell_type": "code",
   "execution_count": 67,
   "metadata": {},
   "outputs": [
    {
     "data": {
      "text/plain": [
       "21"
      ]
     },
     "execution_count": 67,
     "metadata": {},
     "output_type": "execute_result"
    }
   ],
   "source": [
    "A.dot_product(B)"
   ]
  },
  {
   "cell_type": "code",
   "execution_count": 68,
   "metadata": {},
   "outputs": [
    {
     "data": {
      "text/plain": [
       "[-17, 2, 7]"
      ]
     },
     "execution_count": 68,
     "metadata": {},
     "output_type": "execute_result"
    }
   ],
   "source": [
    "A.cross_product(B)"
   ]
  },
  {
   "cell_type": "code",
   "execution_count": 70,
   "metadata": {},
   "outputs": [
    {
     "data": {
      "text/plain": [
       "[17, -2, -7]"
      ]
     },
     "execution_count": 70,
     "metadata": {},
     "output_type": "execute_result"
    }
   ],
   "source": [
    "#this should be the inverse of A x B\n",
    "B.cross_product(A)"
   ]
  },
  {
   "cell_type": "code",
   "execution_count": null,
   "metadata": {},
   "outputs": [],
   "source": []
  }
 ],
 "metadata": {
  "kernelspec": {
   "display_name": "Python 3",
   "language": "python",
   "name": "python3"
  },
  "language_info": {
   "codemirror_mode": {
    "name": "ipython",
    "version": 3
   },
   "file_extension": ".py",
   "mimetype": "text/x-python",
   "name": "python",
   "nbconvert_exporter": "python",
   "pygments_lexer": "ipython3",
   "version": "3.7.4"
  }
 },
 "nbformat": 4,
 "nbformat_minor": 2
}
